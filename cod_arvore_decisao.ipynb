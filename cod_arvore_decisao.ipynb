{
 "cells": [
  {
   "cell_type": "markdown",
   "metadata": {},
   "source": [
    "# Import de pacotes"
   ]
  },
  {
   "cell_type": "code",
   "execution_count": 1,
   "metadata": {
    "ExecuteTime": {
     "end_time": "2021-06-21T22:46:16.373017Z",
     "start_time": "2021-06-21T22:46:14.646009Z"
    }
   },
   "outputs": [],
   "source": [
    "import pandas as pd\n",
    "import numpy as np\n",
    "\n",
    "import matplotlib.pyplot as plt\n",
    "import seaborn as sns\n",
    "%matplotlib inline\n",
    "\n",
    "import random\n",
    "from pprint import pprint\n"
   ]
  },
  {
   "cell_type": "markdown",
   "metadata": {},
   "source": [
    "# Funções para treinar uma árvore de decisão"
   ]
  },
  {
   "cell_type": "markdown",
   "metadata": {},
   "source": [
    "Importante! A variável resposta deve ser a última coluna do data frame."
   ]
  },
  {
   "cell_type": "markdown",
   "metadata": {},
   "source": [
    "## Funções auxiliares"
   ]
  },
  {
   "cell_type": "markdown",
   "metadata": {},
   "source": [
    "### Função para separar dados em treino e teste"
   ]
  },
  {
   "cell_type": "code",
   "execution_count": 2,
   "metadata": {
    "ExecuteTime": {
     "end_time": "2021-06-21T22:46:16.405004Z",
     "start_time": "2021-06-21T22:46:16.384014Z"
    }
   },
   "outputs": [],
   "source": [
    "def train_test_split(df, test_size):\n",
    "    \n",
    "    if isinstance(test_size, float):\n",
    "        test_size = round(test_size * len(df))\n",
    "    \n",
    "    indices = df.index.tolist()\n",
    "    test_indices = random.sample(population = indices, k = test_size)\n",
    "    test_df = df.loc[test_indices]\n",
    "    train_df = df.drop(test_indices)\n",
    "    \n",
    "    return train_df, test_df"
   ]
  },
  {
   "cell_type": "markdown",
   "metadata": {},
   "source": [
    "### Dados com só uma resposta?"
   ]
  },
  {
   "cell_type": "code",
   "execution_count": 3,
   "metadata": {
    "ExecuteTime": {
     "end_time": "2021-06-21T22:46:16.436981Z",
     "start_time": "2021-06-21T22:46:16.410997Z"
    }
   },
   "outputs": [],
   "source": [
    "def check_purity(data):\n",
    "    label_column = data[:,-1]\n",
    "    unique_classes = np.unique(label_column)\n",
    "\n",
    "    if len(unique_classes) == 1:\n",
    "        return True\n",
    "    else: \n",
    "        return False"
   ]
  },
  {
   "cell_type": "markdown",
   "metadata": {},
   "source": [
    "### Classificador"
   ]
  },
  {
   "cell_type": "code",
   "execution_count": 4,
   "metadata": {
    "ExecuteTime": {
     "end_time": "2021-06-21T22:46:16.466964Z",
     "start_time": "2021-06-21T22:46:16.441981Z"
    }
   },
   "outputs": [],
   "source": [
    "def classify_data(data):\n",
    "    \n",
    "    label_column = data[:,-1]\n",
    "    unique_classes, counts_unique_classes = np.unique(label_column, return_counts = True)\n",
    "    \n",
    "    index = counts_unique_classes.argmax()\n",
    "    \n",
    "    classification = unique_classes[index]\n",
    "    \n",
    "    return classification"
   ]
  },
  {
   "cell_type": "markdown",
   "metadata": {},
   "source": [
    "### Potencial split"
   ]
  },
  {
   "cell_type": "code",
   "execution_count": 5,
   "metadata": {
    "ExecuteTime": {
     "end_time": "2021-06-21T22:46:16.498054Z",
     "start_time": "2021-06-21T22:46:16.471962Z"
    }
   },
   "outputs": [],
   "source": [
    "def get_potential_splits(data):\n",
    "    \n",
    "    potential_splits = {}\n",
    "    _, n_columns = data.shape\n",
    "    for column_index in range(n_columns - 1):\n",
    "        \n",
    "        values = data[:, column_index]\n",
    "        unique_values = np.unique(values)\n",
    "        \n",
    "        type_of_feature = feature_types[column_index]\n",
    "        if type_of_feature == 'countinuous':\n",
    "            potential_splits[column_index] = []\n",
    "            for index in range(len(unique_values)):\n",
    "                if index != 0:\n",
    "                    current_value = unique_values[index]\n",
    "                    previous_value = unique_values[index - 1]\n",
    "                    potential_split = (current_value + previous_value) / 2\n",
    "\n",
    "                    potential_splits[column_index].append(potential_split)\n",
    "                    \n",
    "        else:\n",
    "            potential_splits[column_index] = unique_values\n",
    "                \n",
    "    return potential_splits"
   ]
  },
  {
   "cell_type": "markdown",
   "metadata": {},
   "source": [
    "### Split dos dados"
   ]
  },
  {
   "cell_type": "code",
   "execution_count": 6,
   "metadata": {
    "ExecuteTime": {
     "end_time": "2021-06-21T22:46:16.513028Z",
     "start_time": "2021-06-21T22:46:16.501036Z"
    }
   },
   "outputs": [],
   "source": [
    "def split_data(data, split_column, split_value):\n",
    "    \n",
    "    split_column_values = data[:, split_column]\n",
    "    \n",
    "    type_of_feature = feature_types[split_column]\n",
    "    if type_of_feature == 'countinuous':\n",
    "        data_below = data[split_column_values <= split_value]\n",
    "        data_above = data[split_column_values > split_value]\n",
    "    else:\n",
    "        data_below = data[split_column_values == split_value]\n",
    "        data_above = data[split_column_values != split_value]\n",
    "        \n",
    "    return data_below, data_above"
   ]
  },
  {
   "cell_type": "markdown",
   "metadata": {},
   "source": [
    "### Menor impureza. \n",
    "\n",
    "Foram criadas as funções podendo ser usadas as medidas de impureza Gini ou entropia."
   ]
  },
  {
   "cell_type": "code",
   "execution_count": 7,
   "metadata": {
    "ExecuteTime": {
     "end_time": "2021-06-21T22:46:16.529019Z",
     "start_time": "2021-06-21T22:46:16.520030Z"
    }
   },
   "outputs": [],
   "source": [
    "def calculate_entropy(data):\n",
    "    \n",
    "    label_column = data[:, -1]\n",
    "    _, counts = np.unique(label_column, return_counts = True)\n",
    "\n",
    "    probabilities = counts / counts.sum()\n",
    "    entropy = sum(probabilities * -np.log2(probabilities))\n",
    "    return entropy"
   ]
  },
  {
   "cell_type": "code",
   "execution_count": 8,
   "metadata": {
    "ExecuteTime": {
     "end_time": "2021-06-21T22:46:16.544010Z",
     "start_time": "2021-06-21T22:46:16.535015Z"
    }
   },
   "outputs": [],
   "source": [
    "def calculate_gini(data):\n",
    "    label_column = data[:, -1]\n",
    "    _, counts = np.unique(label_column, return_counts = True)\n",
    "    \n",
    "    probabilities = (counts / counts.sum())**2\n",
    "    \n",
    "    gini = 1 - sum(probabilities)\n",
    "    \n",
    "    return gini"
   ]
  },
  {
   "cell_type": "code",
   "execution_count": 9,
   "metadata": {
    "ExecuteTime": {
     "end_time": "2021-06-21T22:46:16.559003Z",
     "start_time": "2021-06-21T22:46:16.550008Z"
    }
   },
   "outputs": [],
   "source": [
    "def calculate_overall_entropy(data_below, data_above):\n",
    "    n_data_points = len(data_below) + len(data_above)\n",
    "    \n",
    "    p_data_below = len(data_below) / n_data_points\n",
    "    p_data_above = len(data_above) / n_data_points\n",
    "    \n",
    "    overall_entropy = (p_data_below * calculate_entropy(data_below)) + (p_data_above * calculate_entropy(data_above))\n",
    "    \n",
    "    return overall_entropy"
   ]
  },
  {
   "cell_type": "code",
   "execution_count": 10,
   "metadata": {
    "ExecuteTime": {
     "end_time": "2021-06-21T22:46:16.574993Z",
     "start_time": "2021-06-21T22:46:16.564998Z"
    }
   },
   "outputs": [],
   "source": [
    "def calculate_overall_gini(data_below, data_above):\n",
    "    n_data_points = len(data_below) + len(data_above)\n",
    "    \n",
    "    p_data_below = len(data_below) / n_data_points\n",
    "    p_data_above = len(data_above) / n_data_points\n",
    "    \n",
    "    overall_gini = (p_data_below * calculate_gini(data_below)) + (p_data_above * calculate_gini(data_above))\n",
    "    \n",
    "    return overall_gini"
   ]
  },
  {
   "cell_type": "markdown",
   "metadata": {},
   "source": [
    "### Melhor split"
   ]
  },
  {
   "cell_type": "code",
   "execution_count": 11,
   "metadata": {
    "ExecuteTime": {
     "end_time": "2021-06-21T22:46:16.606976Z",
     "start_time": "2021-06-21T22:46:16.579990Z"
    }
   },
   "outputs": [],
   "source": [
    "def determine_best_split(data, potential_splits, impurity = 'gini'):\n",
    "    \n",
    "    overall_impurity = 999\n",
    "    for column_index in potential_splits:\n",
    "        for value in potential_splits[column_index]:\n",
    "            data_below, data_above = split_data(data, split_column = column_index, split_value = value)\n",
    "            if impurity == 'entropy':\n",
    "                current_overall_impurity = calculate_overall_entropy(data_below, data_above)\n",
    "            else: # impurity == 'gini'\n",
    "                current_overall_impurity = calculate_overall_gini(data_below, data_above)\n",
    "            \n",
    "            if current_overall_impurity < overall_impurity:\n",
    "                overall_impurity = current_overall_impurity\n",
    "                best_split_column = column_index\n",
    "                best_split_value = value\n",
    "    \n",
    "    return best_split_column, best_split_value"
   ]
  },
  {
   "cell_type": "markdown",
   "metadata": {},
   "source": [
    "### Determinar o tipo da variável explicativa"
   ]
  },
  {
   "cell_type": "code",
   "execution_count": 12,
   "metadata": {
    "ExecuteTime": {
     "end_time": "2021-06-21T22:46:16.637957Z",
     "start_time": "2021-06-21T22:46:16.610971Z"
    }
   },
   "outputs": [],
   "source": [
    "def determine_type_of_feature(df):\n",
    "    feature_types = []\n",
    "    n_unique_values_threshold = 15\n",
    "    \n",
    "    for column in df.columns:\n",
    "        unique_values = df[column].unique()\n",
    "        example_value = unique_values[0]\n",
    "        \n",
    "        if (isinstance(example_value, str)) or (len(unique_values) <= n_unique_values_threshold):\n",
    "            feature_types.append('catgorical')\n",
    "        else:\n",
    "            feature_types.append('continuous')\n",
    "            \n",
    "    return feature_types"
   ]
  },
  {
   "cell_type": "markdown",
   "metadata": {},
   "source": [
    "## Função principal "
   ]
  },
  {
   "cell_type": "markdown",
   "metadata": {},
   "source": [
    "Parâmetros da função:\n",
    " - df: conjunto de dados\n",
    " - min_samples: quantidade máxima de observações nas folhas (finais)\n",
    " - max_depth: quantidade máxima de ramificações (splits)\n",
    " - impurity: qual a medida de impureza usada"
   ]
  },
  {
   "cell_type": "code",
   "execution_count": 31,
   "metadata": {
    "ExecuteTime": {
     "end_time": "2021-06-21T22:48:40.550556Z",
     "start_time": "2021-06-21T22:48:40.527570Z"
    }
   },
   "outputs": [],
   "source": [
    "def decision_tree_algorithm(df, counter = 0, min_samples = 2,max_depth = 5, impurity = 'gini'):\n",
    "    \n",
    "    # \n",
    "    if counter == 0:\n",
    "        global column_headers, feature_types\n",
    "        column_headers = df.columns\n",
    "        feature_types = determine_type_of_feature(df)\n",
    "        data = df.values\n",
    "    else:\n",
    "        data = df\n",
    "        \n",
    "    #base case\n",
    "    if (check_purity(data)) or (len(data) < min_samples) or (counter == max_depth):\n",
    "        classification = classify_data(data)\n",
    "        return classification\n",
    "    \n",
    "    #recursive part\n",
    "    else:\n",
    "        counter += 1\n",
    "        \n",
    "        potential_splits = get_potential_splits(data)\n",
    "        split_column, split_value = determine_best_split(data, potential_splits, impurity = 'gini')\n",
    "        data_below, data_above = split_data(data,split_column, split_value)\n",
    "        \n",
    "        # instantiate sub-tree\n",
    "        feature_name = column_headers[split_column]\n",
    "        type_of_feature = feature_types[split_column]\n",
    "        if type_of_feature == 'countinuous':\n",
    "            question = \"{} <= {:.6f}\".format(feature_name, split_value)\n",
    "        else:\n",
    "            question = \"{} = {}\".format(feature_name, split_value)    \n",
    "        sub_tree = {question: []}\n",
    "    \n",
    "        #find answers (recursion)\n",
    "        yes_answer = decision_tree_algorithm(data_below, counter, min_samples, impurity, max_depth)\n",
    "        no_answer = decision_tree_algorithm(data_above, counter, min_samples, impurity, max_depth)\n",
    "        \n",
    "        if yes_answer == no_answer:\n",
    "            sub_tree = yes_answer\n",
    "        else:\n",
    "            sub_tree[question].append(yes_answer)\n",
    "            sub_tree[question].append(no_answer)\n",
    "        \n",
    "    return sub_tree"
   ]
  },
  {
   "cell_type": "markdown",
   "metadata": {
    "ExecuteTime": {
     "end_time": "2021-06-07T22:01:40.139738Z",
     "start_time": "2021-06-07T22:01:40.121749Z"
    }
   },
   "source": [
    "# Funções para classificação de novos dados"
   ]
  },
  {
   "cell_type": "markdown",
   "metadata": {},
   "source": [
    "## Classificação"
   ]
  },
  {
   "cell_type": "code",
   "execution_count": 39,
   "metadata": {
    "ExecuteTime": {
     "end_time": "2021-06-21T22:55:59.941972Z",
     "start_time": "2021-06-21T22:55:59.930982Z"
    }
   },
   "outputs": [],
   "source": [
    "def classify_example(example, tree):\n",
    "    \n",
    "    question = list(tree.keys())[0]\n",
    "    feature_name, comparison_operator,value = question.split()\n",
    "    \n",
    "    if comparison_operator == '<=':\n",
    "        if example[feature_name] <= float(value):\n",
    "            answer = tree[question][0]\n",
    "        else: \n",
    "            answer = tree[question][1]\n",
    "    else:\n",
    "        if str(example[feature_name]) == value:\n",
    "            answer = tree[question][0]\n",
    "        else: \n",
    "            answer = tree[question][1]\n",
    "        \n",
    "    if not isinstance(answer, dict):\n",
    "        return answer\n",
    "    else:\n",
    "        residual_tree = answer\n",
    "        return classify_example(example, answer)"
   ]
  },
  {
   "cell_type": "markdown",
   "metadata": {},
   "source": [
    "## Acurácia"
   ]
  },
  {
   "cell_type": "code",
   "execution_count": 15,
   "metadata": {
    "ExecuteTime": {
     "end_time": "2021-06-21T22:46:16.700950Z",
     "start_time": "2021-06-21T22:46:16.688958Z"
    }
   },
   "outputs": [],
   "source": [
    "def calculate_accuracy(df, tree):\n",
    "    \n",
    "    df['classification'] = df.apply(classify_example, axis=1, args = (tree,))\n",
    "    df['classification_correct'] = df.classification == df.label\n",
    "    \n",
    "    accuracy = df.classification_correct.mean()\n",
    "    \n",
    "    return accuracy"
   ]
  },
  {
   "cell_type": "markdown",
   "metadata": {},
   "source": [
    "# Conjunto de dados"
   ]
  },
  {
   "cell_type": "markdown",
   "metadata": {},
   "source": [
    "## Dicionário das variáveis:"
   ]
  },
  {
   "cell_type": "markdown",
   "metadata": {},
   "source": [
    " **Temperature (K)}**:\n",
    "\n",
    "**Luminosity(L/Lo)**:\n",
    "\n",
    "**Radius(R/Ro)**:\n",
    "\n",
    "**Absolute magnitude(Mv)**:\n",
    "\n",
    "**Star Type**: Brown Dwarf = 0, Red Dwarf = 1, White Dwarf = 2, Main Sequence = 3, Supergiant = 4, Hypergiant = 5\n",
    "\n",
    "**Star color**:\n",
    "\n",
    "**Spectral Class**:\n",
    "\n",
    "The Luminosity and radius of each star is calculated w.r.t. that of the values of Sun.\n",
    "\n",
    "Lo = 3.828 x 10^26 Watts\n",
    "\n",
    "Ro = 6.9551 x 10^8 m"
   ]
  },
  {
   "cell_type": "markdown",
   "metadata": {},
   "source": [
    "## Carregamento dos dados"
   ]
  },
  {
   "cell_type": "code",
   "execution_count": 16,
   "metadata": {
    "ExecuteTime": {
     "end_time": "2021-06-21T22:46:16.731476Z",
     "start_time": "2021-06-21T22:46:16.704950Z"
    }
   },
   "outputs": [],
   "source": [
    "dados = pd.read_csv('stars.csv')"
   ]
  },
  {
   "cell_type": "code",
   "execution_count": 17,
   "metadata": {
    "ExecuteTime": {
     "end_time": "2021-06-21T22:46:16.762464Z",
     "start_time": "2021-06-21T22:46:16.735479Z"
    }
   },
   "outputs": [
    {
     "data": {
      "text/html": [
       "<div>\n",
       "<style scoped>\n",
       "    .dataframe tbody tr th:only-of-type {\n",
       "        vertical-align: middle;\n",
       "    }\n",
       "\n",
       "    .dataframe tbody tr th {\n",
       "        vertical-align: top;\n",
       "    }\n",
       "\n",
       "    .dataframe thead th {\n",
       "        text-align: right;\n",
       "    }\n",
       "</style>\n",
       "<table border=\"1\" class=\"dataframe\">\n",
       "  <thead>\n",
       "    <tr style=\"text-align: right;\">\n",
       "      <th></th>\n",
       "      <th>Temperature (K)</th>\n",
       "      <th>Luminosity(L/Lo)</th>\n",
       "      <th>Radius(R/Ro)</th>\n",
       "      <th>Absolute magnitude(Mv)</th>\n",
       "      <th>Star type</th>\n",
       "      <th>Star color</th>\n",
       "      <th>Spectral Class</th>\n",
       "    </tr>\n",
       "  </thead>\n",
       "  <tbody>\n",
       "    <tr>\n",
       "      <th>0</th>\n",
       "      <td>3068</td>\n",
       "      <td>0.002400</td>\n",
       "      <td>0.1700</td>\n",
       "      <td>16.12</td>\n",
       "      <td>0</td>\n",
       "      <td>Red</td>\n",
       "      <td>M</td>\n",
       "    </tr>\n",
       "    <tr>\n",
       "      <th>1</th>\n",
       "      <td>3042</td>\n",
       "      <td>0.000500</td>\n",
       "      <td>0.1542</td>\n",
       "      <td>16.60</td>\n",
       "      <td>0</td>\n",
       "      <td>Red</td>\n",
       "      <td>M</td>\n",
       "    </tr>\n",
       "    <tr>\n",
       "      <th>2</th>\n",
       "      <td>2600</td>\n",
       "      <td>0.000300</td>\n",
       "      <td>0.1020</td>\n",
       "      <td>18.70</td>\n",
       "      <td>0</td>\n",
       "      <td>Red</td>\n",
       "      <td>M</td>\n",
       "    </tr>\n",
       "    <tr>\n",
       "      <th>3</th>\n",
       "      <td>2800</td>\n",
       "      <td>0.000200</td>\n",
       "      <td>0.1600</td>\n",
       "      <td>16.65</td>\n",
       "      <td>0</td>\n",
       "      <td>Red</td>\n",
       "      <td>M</td>\n",
       "    </tr>\n",
       "    <tr>\n",
       "      <th>4</th>\n",
       "      <td>1939</td>\n",
       "      <td>0.000138</td>\n",
       "      <td>0.1030</td>\n",
       "      <td>20.06</td>\n",
       "      <td>0</td>\n",
       "      <td>Red</td>\n",
       "      <td>M</td>\n",
       "    </tr>\n",
       "  </tbody>\n",
       "</table>\n",
       "</div>"
      ],
      "text/plain": [
       "   Temperature (K)  Luminosity(L/Lo)  Radius(R/Ro)  Absolute magnitude(Mv)  \\\n",
       "0             3068          0.002400        0.1700                   16.12   \n",
       "1             3042          0.000500        0.1542                   16.60   \n",
       "2             2600          0.000300        0.1020                   18.70   \n",
       "3             2800          0.000200        0.1600                   16.65   \n",
       "4             1939          0.000138        0.1030                   20.06   \n",
       "\n",
       "   Star type Star color Spectral Class  \n",
       "0          0        Red              M  \n",
       "1          0        Red              M  \n",
       "2          0        Red              M  \n",
       "3          0        Red              M  \n",
       "4          0        Red              M  "
      ]
     },
     "execution_count": 17,
     "metadata": {},
     "output_type": "execute_result"
    }
   ],
   "source": [
    "dados.head()"
   ]
  },
  {
   "cell_type": "code",
   "execution_count": 18,
   "metadata": {
    "ExecuteTime": {
     "end_time": "2021-06-21T22:46:16.777704Z",
     "start_time": "2021-06-21T22:46:16.765461Z"
    }
   },
   "outputs": [
    {
     "data": {
      "text/plain": [
       "(240, 7)"
      ]
     },
     "execution_count": 18,
     "metadata": {},
     "output_type": "execute_result"
    }
   ],
   "source": [
    "dados.shape"
   ]
  },
  {
   "cell_type": "code",
   "execution_count": 19,
   "metadata": {
    "ExecuteTime": {
     "end_time": "2021-06-21T22:46:16.809689Z",
     "start_time": "2021-06-21T22:46:16.779705Z"
    }
   },
   "outputs": [
    {
     "name": "stdout",
     "output_type": "stream",
     "text": [
      "<class 'pandas.core.frame.DataFrame'>\n",
      "RangeIndex: 240 entries, 0 to 239\n",
      "Data columns (total 7 columns):\n",
      " #   Column                  Non-Null Count  Dtype  \n",
      "---  ------                  --------------  -----  \n",
      " 0   Temperature (K)         240 non-null    int64  \n",
      " 1   Luminosity(L/Lo)        240 non-null    float64\n",
      " 2   Radius(R/Ro)            240 non-null    float64\n",
      " 3   Absolute magnitude(Mv)  240 non-null    float64\n",
      " 4   Star type               240 non-null    int64  \n",
      " 5   Star color              240 non-null    object \n",
      " 6   Spectral Class          240 non-null    object \n",
      "dtypes: float64(3), int64(2), object(2)\n",
      "memory usage: 13.2+ KB\n"
     ]
    }
   ],
   "source": [
    "dados.info()"
   ]
  },
  {
   "cell_type": "markdown",
   "metadata": {},
   "source": [
    "## Preparando os dados"
   ]
  },
  {
   "cell_type": "markdown",
   "metadata": {},
   "source": [
    "### Removendo espaços dos nomes das variáveis"
   ]
  },
  {
   "cell_type": "code",
   "execution_count": 46,
   "metadata": {
    "ExecuteTime": {
     "end_time": "2021-06-21T23:04:56.433957Z",
     "start_time": "2021-06-21T23:04:56.414970Z"
    }
   },
   "outputs": [
    {
     "data": {
      "text/plain": [
       "Index(['Temperature (K)', 'Luminosity(L/Lo)', 'Radius(R/Ro)',\n",
       "       'Absolute magnitude(Mv)', 'Star type', 'Star color', 'Spectral Class',\n",
       "       'label'],\n",
       "      dtype='object')"
      ]
     },
     "execution_count": 46,
     "metadata": {},
     "output_type": "execute_result"
    }
   ],
   "source": [
    "dados.columns"
   ]
  },
  {
   "cell_type": "code",
   "execution_count": 48,
   "metadata": {
    "ExecuteTime": {
     "end_time": "2021-06-21T23:05:50.205790Z",
     "start_time": "2021-06-21T23:05:50.197794Z"
    }
   },
   "outputs": [],
   "source": [
    "dados.columns = ['Temperature_(K)', 'Luminosity(L/Lo)', 'Radius(R/Ro)',\n",
    "       'Absolute_magnitude(Mv)', 'Star_type', 'Star_color', 'Spectral_Class',\n",
    "       'label']"
   ]
  },
  {
   "cell_type": "markdown",
   "metadata": {},
   "source": [
    "### Variável resposta (alvo)"
   ]
  },
  {
   "cell_type": "code",
   "execution_count": 20,
   "metadata": {
    "ExecuteTime": {
     "end_time": "2021-06-21T22:46:16.824681Z",
     "start_time": "2021-06-21T22:46:16.813690Z"
    }
   },
   "outputs": [
    {
     "data": {
      "text/plain": [
       "array([0, 1, 2, 3, 4, 5], dtype=int64)"
      ]
     },
     "execution_count": 20,
     "metadata": {},
     "output_type": "execute_result"
    }
   ],
   "source": [
    "dados['Star_type'].unique()"
   ]
  },
  {
   "cell_type": "code",
   "execution_count": 49,
   "metadata": {
    "ExecuteTime": {
     "end_time": "2021-06-21T23:06:01.495894Z",
     "start_time": "2021-06-21T23:06:01.484899Z"
    }
   },
   "outputs": [],
   "source": [
    "dados['label'] = dados['Star_type'].astype('category')\n",
    "dados_tree = dados.drop(['Star_type'], axis = 1)"
   ]
  },
  {
   "cell_type": "code",
   "execution_count": 50,
   "metadata": {
    "ExecuteTime": {
     "end_time": "2021-06-21T23:06:07.980671Z",
     "start_time": "2021-06-21T23:06:07.957684Z"
    }
   },
   "outputs": [
    {
     "name": "stdout",
     "output_type": "stream",
     "text": [
      "<class 'pandas.core.frame.DataFrame'>\n",
      "RangeIndex: 240 entries, 0 to 239\n",
      "Data columns (total 7 columns):\n",
      " #   Column                  Non-Null Count  Dtype   \n",
      "---  ------                  --------------  -----   \n",
      " 0   Temperature_(K)         240 non-null    int64   \n",
      " 1   Luminosity(L/Lo)        240 non-null    float64 \n",
      " 2   Radius(R/Ro)            240 non-null    float64 \n",
      " 3   Absolute_magnitude(Mv)  240 non-null    float64 \n",
      " 4   Star_color              240 non-null    object  \n",
      " 5   Spectral_Class          240 non-null    object  \n",
      " 6   label                   240 non-null    category\n",
      "dtypes: category(1), float64(3), int64(1), object(2)\n",
      "memory usage: 11.8+ KB\n"
     ]
    }
   ],
   "source": [
    "dados_tree.info()"
   ]
  },
  {
   "cell_type": "markdown",
   "metadata": {},
   "source": [
    "### Corrigindo type das variáveis categóricas"
   ]
  },
  {
   "cell_type": "code",
   "execution_count": 51,
   "metadata": {
    "ExecuteTime": {
     "end_time": "2021-06-21T23:06:24.878891Z",
     "start_time": "2021-06-21T23:06:24.861880Z"
    }
   },
   "outputs": [],
   "source": [
    "dados_tree['Star_color'] = dados_tree['Star_color'].astype('category')\n",
    "dados_tree['Spectral_Class'] = dados_tree['Spectral_Class'].astype('category')"
   ]
  },
  {
   "cell_type": "markdown",
   "metadata": {
    "ExecuteTime": {
     "end_time": "2021-06-19T23:42:30.712600Z",
     "start_time": "2021-06-19T23:42:30.304671Z"
    }
   },
   "source": [
    "### Separando os dados entre teste e treino"
   ]
  },
  {
   "cell_type": "code",
   "execution_count": 52,
   "metadata": {
    "ExecuteTime": {
     "end_time": "2021-06-21T23:06:28.010703Z",
     "start_time": "2021-06-21T23:06:27.989717Z"
    }
   },
   "outputs": [],
   "source": [
    "random.seed(0)\n",
    "treino, teste = train_test_split(dados_tree,0.1)"
   ]
  },
  {
   "cell_type": "code",
   "execution_count": 53,
   "metadata": {
    "ExecuteTime": {
     "end_time": "2021-06-21T23:06:30.312868Z",
     "start_time": "2021-06-21T23:06:30.300878Z"
    }
   },
   "outputs": [
    {
     "data": {
      "text/plain": [
       "((216, 7), (24, 7))"
      ]
     },
     "execution_count": 53,
     "metadata": {},
     "output_type": "execute_result"
    }
   ],
   "source": [
    "treino.shape, teste.shape"
   ]
  },
  {
   "cell_type": "markdown",
   "metadata": {},
   "source": [
    "# Treinando uma árvore de decisão"
   ]
  },
  {
   "cell_type": "code",
   "execution_count": 62,
   "metadata": {
    "ExecuteTime": {
     "end_time": "2021-06-21T23:17:49.388644Z",
     "start_time": "2021-06-21T23:17:46.733069Z"
    }
   },
   "outputs": [],
   "source": [
    "tree = decision_tree_algorithm(treino)"
   ]
  },
  {
   "cell_type": "code",
   "execution_count": 63,
   "metadata": {
    "ExecuteTime": {
     "end_time": "2021-06-21T23:17:51.644235Z",
     "start_time": "2021-06-21T23:17:51.549314Z"
    },
    "scrolled": true
   },
   "outputs": [
    {
     "name": "stdout",
     "output_type": "stream",
     "text": [
      "{'Star_color = Red': [{'Radius(R/Ro) = 1324.0': [5,\n",
      "                                                 {'Radius(R/Ro) = 0.24': [1,\n",
      "                                                                          {'Luminosity(L/Lo) = 200000.0': [{'Temperature_(K) = 3615': [5,\n",
      "                                                                                                                                       4]},\n",
      "                                                                                                           {'Spectral_Class = M': [{'Temperature_(K) = 3324': [1,\n",
      "                                                                                                                                                               {'Temperature_(K) = 3598': [1,\n",
      "                                                                                                                                                                                           {'Temperature_(K) = 3607': [1,\n",
      "                                                                                                                                                                                                                       {'Luminosity(L/Lo) = 0.0006': [1,\n",
      "                                                                                                                                                                                                                                                      {'Radius(R/Ro) = 0.35': [1,\n",
      "                                                                                                                                                                                                                                                                               {'Temperature_(K) = 3008': [4,\n",
      "                                                                                                                                                                                                                                                                                                           {'Temperature_(K) = 3200': [4,\n",
      "                                                                                                                                                                                                                                                                                                                                       {'Temperature_(K) = 3270': [4,\n",
      "                                                                                                                                                                                                                                                                                                                                                                   {'Temperature_(K) = 3365': [4,\n",
      "                                                                                                                                                                                                                                                                                                                                                                                               {'Temperature_(K) = 3575': [4,\n",
      "                                                                                                                                                                                                                                                                                                                                                                                                                           {'Luminosity(L/Lo) = 184000.0': [4,\n",
      "                                                                                                                                                                                                                                                                                                                                                                                                                                                            {'Radius(R/Ro) = 29.0': [4,\n",
      "                                                                                                                                                                                                                                                                                                                                                                                                                                                                                     {'Temperature_(K) = 3399': [5,\n",
      "                                                                                                                                                                                                                                                                                                                                                                                                                                                                                                                 {'Temperature_(K) = 3450': [5,\n",
      "                                                                                                                                                                                                                                                                                                                                                                                                                                                                                                                                             {'Temperature_(K) = 3459': [5,\n",
      "                                                                                                                                                                                                                                                                                                                                                                                                                                                                                                                                                                         {'Temperature_(K) = 3490': [5,\n",
      "                                                                                                                                                                                                                                                                                                                                                                                                                                                                                                                                                                                                     {'Temperature_(K) = 3500': [5,\n",
      "                                                                                                                                                                                                                                                                                                                                                                                                                                                                                                                                                                                                                                 {'Temperature_(K) = 3535': [5,\n",
      "                                                                                                                                                                                                                                                                                                                                                                                                                                                                                                                                                                                                                                                             {'Temperature_(K) = 3570': [5,\n",
      "                                                                                                                                                                                                                                                                                                                                                                                                                                                                                                                                                                                                                                                                                         {'Temperature_(K) = 3600': [5,\n",
      "                                                                                                                                                                                                                                                                                                                                                                                                                                                                                                                                                                                                                                                                                                                     {'Temperature_(K) = 3605': [5,\n",
      "                                                                                                                                                                                                                                                                                                                                                                                                                                                                                                                                                                                                                                                                                                                                                 {'Temperature_(K) = 3610': [5,\n",
      "                                                                                                                                                                                                                                                                                                                                                                                                                                                                                                                                                                                                                                                                                                                                                                             {'Temperature_(K) = 3614': [5,\n",
      "                                                                                                                                                                                                                                                                                                                                                                                                                                                                                                                                                                                                                                                                                                                                                                                                         {'Temperature_(K) = 3625': [5,\n",
      "                                                                                                                                                                                                                                                                                                                                                                                                                                                                                                                                                                                                                                                                                                                                                                                                                                     {'Temperature_(K) = 3660': [5,\n",
      "                                                                                                                                                                                                                                                                                                                                                                                                                                                                                                                                                                                                                                                                                                                                                                                                                                                                 {'Temperature_(K) = 3750': [5,\n",
      "                                                                                                                                                                                                                                                                                                                                                                                                                                                                                                                                                                                                                                                                                                                                                                                                                                                                                             {'Temperature_(K) = 3752': [5,\n",
      "                                                                                                                                                                                                                                                                                                                                                                                                                                                                                                                                                                                                                                                                                                                                                                                                                                                                                                                         {'Temperature_(K) = 3834': [5,\n",
      "                                                                                                                                                                                                                                                                                                                                                                                                                                                                                                                                                                                                                                                                                                                                                                                                                                                                                                                                                     {'Temperature_(K) = 2799': [1,\n",
      "                                                                                                                                                                                                                                                                                                                                                                                                                                                                                                                                                                                                                                                                                                                                                                                                                                                                                                                                                                                 {'Temperature_(K) = 2989': [1,\n",
      "                                                                                                                                                                                                                                                                                                                                                                                                                                                                                                                                                                                                                                                                                                                                                                                                                                                                                                                                                                                                             {'Temperature_(K) = 2994': [1,\n",
      "                                                                                                                                                                                                                                                                                                                                                                                                                                                                                                                                                                                                                                                                                                                                                                                                                                                                                                                                                                                                                                         {'Temperature_(K) = 3100': [1,\n",
      "                                                                                                                                                                                                                                                                                                                                                                                                                                                                                                                                                                                                                                                                                                                                                                                                                                                                                                                                                                                                                                                                     {'Temperature_(K) = 3129': [1,\n",
      "                                                                                                                                                                                                                                                                                                                                                                                                                                                                                                                                                                                                                                                                                                                                                                                                                                                                                                                                                                                                                                                                                                 {'Temperature_(K) = 3134': [1,\n",
      "                                                                                                                                                                                                                                                                                                                                                                                                                                                                                                                                                                                                                                                                                                                                                                                                                                                                                                                                                                                                                                                                                                                             {'Temperature_(K) = 3142': [1,\n",
      "                                                                                                                                                                                                                                                                                                                                                                                                                                                                                                                                                                                                                                                                                                                                                                                                                                                                                                                                                                                                                                                                                                                                                         {'Temperature_(K) = 3158': [1,\n",
      "                                                                                                                                                                                                                                                                                                                                                                                                                                                                                                                                                                                                                                                                                                                                                                                                                                                                                                                                                                                                                                                                                                                                                                                     {'Temperature_(K) = 3192': [1,\n",
      "                                                                                                                                                                                                                                                                                                                                                                                                                                                                                                                                                                                                                                                                                                                                                                                                                                                                                                                                                                                                                                                                                                                                                                                                                 {'Temperature_(K) = 3243': [1,\n",
      "                                                                                                                                                                                                                                                                                                                                                                                                                                                                                                                                                                                                                                                                                                                                                                                                                                                                                                                                                                                                                                                                                                                                                                                                                                             {'Temperature_(K) = 3257': [1,\n",
      "                                                                                                                                                                                                                                                                                                                                                                                                                                                                                                                                                                                                                                                                                                                                                                                                                                                                                                                                                                                                                                                                                                                                                                                                                                                                         {'Temperature_(K) = 3345': [1,\n",
      "                                                                                                                                                                                                                                                                                                                                                                                                                                                                                                                                                                                                                                                                                                                                                                                                                                                                                                                                                                                                                                                                                                                                                                                                                                                                                                     {'Temperature_(K) = 3441': [1,\n",
      "                                                                                                                                                                                                                                                                                                                                                                                                                                                                                                                                                                                                                                                                                                                                                                                                                                                                                                                                                                                                                                                                                                                                                                                                                                                                                                                                 {'Temperature_(K) = 3462': [1,\n",
      "                                                                                                                                                                                                                                                                                                                                                                                                                                                                                                                                                                                                                                                                                                                                                                                                                                                                                                                                                                                                                                                                                                                                                                                                                                                                                                                                                             {'Temperature_(K) = 3463': [1,\n",
      "                                                                                                                                                                                                                                                                                                                                                                                                                                                                                                                                                                                                                                                                                                                                                                                                                                                                                                                                                                                                                                                                                                                                                                                                                                                                                                                                                                                         {'Temperature_(K) = 3496': [1,\n",
      "                                                                                                                                                                                                                                                                                                                                                                                                                                                                                                                                                                                                                                                                                                                                                                                                                                                                                                                                                                                                                                                                                                                                                                                                                                                                                                                                                                                                                     {'Temperature_(K) = 3541': [1,\n",
      "                                                                                                                                                                                                                                                                                                                                                                                                                                                                                                                                                                                                                                                                                                                                                                                                                                                                                                                                                                                                                                                                                                                                                                                                                                                                                                                                                                                                                                                 {'Temperature_(K) = 3542': [1,\n",
      "                                                                                                                                                                                                                                                                                                                                                                                                                                                                                                                                                                                                                                                                                                                                                                                                                                                                                                                                                                                                                                                                                                                                                                                                                                                                                                                                                                                                                                                                             {'Temperature_(K) = 3550': [1,\n",
      "                                                                                                                                                                                                                                                                                                                                                                                                                                                                                                                                                                                                                                                                                                                                                                                                                                                                                                                                                                                                                                                                                                                                                                                                                                                                                                                                                                                                                                                                                                         {'Temperature_(K) = 3628': [1,\n",
      "                                                                                                                                                                                                                                                                                                                                                                                                                                                                                                                                                                                                                                                                                                                                                                                                                                                                                                                                                                                                                                                                                                                                                                                                                                                                                                                                                                                                                                                                                                                                     {'Temperature_(K) = 3692': [1,\n",
      "                                                                                                                                                                                                                                                                                                                                                                                                                                                                                                                                                                                                                                                                                                                                                                                                                                                                                                                                                                                                                                                                                                                                                                                                                                                                                                                                                                                                                                                                                                                                                                 0]}]}]}]}]}]}]}]}]}]}]}]}]}]}]}]}]}]}]}]}]}]}]}]}]}]}]}]}]}]}]}]}]}]}]}]}]}]}]}]}]}]}]}]}]}]}]}]}]},\n",
      "                                                                                                                                   5]}]}]}]},\n",
      "                      {'Spectral_Class = O': [{'Radius(R/Ro) = 1356.0': [5,\n",
      "                                                                         {'Temperature_(K) = 18000': [5,\n",
      "                                                                                                      {'Temperature_(K) = 30839': [5,\n",
      "                                                                                                                                   {'Temperature_(K) = 32489': [5,\n",
      "                                                                                                                                                                {'Temperature_(K) = 37882': [5,\n",
      "                                                                                                                                                                                             {'Temperature_(K) = 32460': [3,\n",
      "                                                                                                                                                                                                                          {'Temperature_(K) = 34190': [3,\n",
      "                                                                                                                                                                                                                                                       {'Temperature_(K) = 36108': [3,\n",
      "                                                                                                                                                                                                                                                                                    {'Temperature_(K) = 37800': [3,\n",
      "                                                                                                                                                                                                                                                                                                                 {'Temperature_(K) = 39000': [3,\n",
      "                                                                                                                                                                                                                                                                                                                                              4]}]}]}]}]}]}]}]}]}]},\n",
      "                                              {'Star_color = Blue-white': [{'Temperature_(K) = 11000': [5,\n",
      "                                                                                                        {'Temperature_(K) = 12100': [5,\n",
      "                                                                                                                                     {'Temperature_(K) = 21904': [5,\n",
      "                                                                                                                                                                  {'Temperature_(K) = 24145': [5,\n",
      "                                                                                                                                                                                               {'Temperature_(K) = 24490': [5,\n",
      "                                                                                                                                                                                                                            {'Temperature_(K) = 27739': [5,\n",
      "                                                                                                                                                                                                                                                         3]}]}]}]}]}]},\n",
      "                                                                           {'Star_color = yellow-white': [3,\n",
      "                                                                                                          {'Spectral_Class = K': [{'Temperature_(K) = 4287': [5,\n",
      "                                                                                                                                                              3]},\n",
      "                                                                                                                                  {'Temperature_(K) = 8945': [3,\n",
      "                                                                                                                                                              {'Temperature_(K) = 9700': [3,\n",
      "                                                                                                                                                                                          {'Temperature_(K) = 33300': [4,\n",
      "                                                                                                                                                                                                                       {'Temperature_(K) = 33750': [4,\n",
      "                                                                                                                                                                                                                                                    {'Temperature_(K) = 3749': [5,\n",
      "                                                                                                                                                                                                                                                                                {'Temperature_(K) = 8829': [5,\n",
      "                                                                                                                                                                                                                                                                                                            {'Temperature_(K) = 9235': [5,\n",
      "                                                                                                                                                                                                                                                                                                                                        {'Temperature_(K) = 26000': [5,\n",
      "                                                                                                                                                                                                                                                                                                                                                                     2]}]}]}]}]}]}]}]}]}]}]}]}]}\n"
     ]
    }
   ],
   "source": [
    "pprint(tree)"
   ]
  },
  {
   "cell_type": "markdown",
   "metadata": {},
   "source": [
    "# Classificando dados de teste"
   ]
  },
  {
   "cell_type": "code",
   "execution_count": 64,
   "metadata": {
    "ExecuteTime": {
     "end_time": "2021-06-21T23:17:55.900181Z",
     "start_time": "2021-06-21T23:17:55.884188Z"
    }
   },
   "outputs": [],
   "source": [
    "teste['classification'] = teste.apply(classify_example, axis=1, args = (tree,))"
   ]
  },
  {
   "cell_type": "code",
   "execution_count": 65,
   "metadata": {
    "ExecuteTime": {
     "end_time": "2021-06-21T23:17:58.032998Z",
     "start_time": "2021-06-21T23:17:57.993019Z"
    }
   },
   "outputs": [
    {
     "data": {
      "text/html": [
       "<div>\n",
       "<style scoped>\n",
       "    .dataframe tbody tr th:only-of-type {\n",
       "        vertical-align: middle;\n",
       "    }\n",
       "\n",
       "    .dataframe tbody tr th {\n",
       "        vertical-align: top;\n",
       "    }\n",
       "\n",
       "    .dataframe thead th {\n",
       "        text-align: right;\n",
       "    }\n",
       "</style>\n",
       "<table border=\"1\" class=\"dataframe\">\n",
       "  <thead>\n",
       "    <tr style=\"text-align: right;\">\n",
       "      <th></th>\n",
       "      <th>Temperature_(K)</th>\n",
       "      <th>Luminosity(L/Lo)</th>\n",
       "      <th>Radius(R/Ro)</th>\n",
       "      <th>Absolute_magnitude(Mv)</th>\n",
       "      <th>Star_color</th>\n",
       "      <th>Spectral_Class</th>\n",
       "      <th>label</th>\n",
       "      <th>classification</th>\n",
       "      <th>classification_correct</th>\n",
       "    </tr>\n",
       "  </thead>\n",
       "  <tbody>\n",
       "    <tr>\n",
       "      <th>216</th>\n",
       "      <td>9320</td>\n",
       "      <td>29.000000</td>\n",
       "      <td>1.91000</td>\n",
       "      <td>1.236</td>\n",
       "      <td>Blue-white</td>\n",
       "      <td>A</td>\n",
       "      <td>3</td>\n",
       "      <td>3</td>\n",
       "      <td>True</td>\n",
       "    </tr>\n",
       "    <tr>\n",
       "      <th>98</th>\n",
       "      <td>12098</td>\n",
       "      <td>689.000000</td>\n",
       "      <td>7.01000</td>\n",
       "      <td>0.020</td>\n",
       "      <td>Blue-white</td>\n",
       "      <td>A</td>\n",
       "      <td>3</td>\n",
       "      <td>3</td>\n",
       "      <td>True</td>\n",
       "    </tr>\n",
       "    <tr>\n",
       "      <th>194</th>\n",
       "      <td>3523</td>\n",
       "      <td>0.005400</td>\n",
       "      <td>0.31900</td>\n",
       "      <td>12.430</td>\n",
       "      <td>Red</td>\n",
       "      <td>M</td>\n",
       "      <td>1</td>\n",
       "      <td>0</td>\n",
       "      <td>False</td>\n",
       "    </tr>\n",
       "    <tr>\n",
       "      <th>227</th>\n",
       "      <td>10930</td>\n",
       "      <td>783930.000000</td>\n",
       "      <td>25.00000</td>\n",
       "      <td>-6.224</td>\n",
       "      <td>Blue</td>\n",
       "      <td>O</td>\n",
       "      <td>4</td>\n",
       "      <td>4</td>\n",
       "      <td>True</td>\n",
       "    </tr>\n",
       "    <tr>\n",
       "      <th>107</th>\n",
       "      <td>12893</td>\n",
       "      <td>184000.000000</td>\n",
       "      <td>36.00000</td>\n",
       "      <td>-6.340</td>\n",
       "      <td>Blue</td>\n",
       "      <td>O</td>\n",
       "      <td>4</td>\n",
       "      <td>4</td>\n",
       "      <td>True</td>\n",
       "    </tr>\n",
       "    <tr>\n",
       "      <th>10</th>\n",
       "      <td>3600</td>\n",
       "      <td>0.002900</td>\n",
       "      <td>0.51000</td>\n",
       "      <td>10.690</td>\n",
       "      <td>Red</td>\n",
       "      <td>M</td>\n",
       "      <td>1</td>\n",
       "      <td>5</td>\n",
       "      <td>False</td>\n",
       "    </tr>\n",
       "    <tr>\n",
       "      <th>66</th>\n",
       "      <td>2945</td>\n",
       "      <td>0.000320</td>\n",
       "      <td>0.09300</td>\n",
       "      <td>18.340</td>\n",
       "      <td>Red</td>\n",
       "      <td>M</td>\n",
       "      <td>0</td>\n",
       "      <td>0</td>\n",
       "      <td>True</td>\n",
       "    </tr>\n",
       "    <tr>\n",
       "      <th>130</th>\n",
       "      <td>3095</td>\n",
       "      <td>0.000190</td>\n",
       "      <td>0.49200</td>\n",
       "      <td>10.870</td>\n",
       "      <td>Red</td>\n",
       "      <td>M</td>\n",
       "      <td>1</td>\n",
       "      <td>0</td>\n",
       "      <td>False</td>\n",
       "    </tr>\n",
       "    <tr>\n",
       "      <th>124</th>\n",
       "      <td>3511</td>\n",
       "      <td>0.000640</td>\n",
       "      <td>0.10900</td>\n",
       "      <td>17.120</td>\n",
       "      <td>Red</td>\n",
       "      <td>M</td>\n",
       "      <td>0</td>\n",
       "      <td>0</td>\n",
       "      <td>True</td>\n",
       "    </tr>\n",
       "    <tr>\n",
       "      <th>103</th>\n",
       "      <td>17120</td>\n",
       "      <td>235000.000000</td>\n",
       "      <td>83.00000</td>\n",
       "      <td>-6.890</td>\n",
       "      <td>Blue</td>\n",
       "      <td>O</td>\n",
       "      <td>4</td>\n",
       "      <td>4</td>\n",
       "      <td>True</td>\n",
       "    </tr>\n",
       "    <tr>\n",
       "      <th>200</th>\n",
       "      <td>16790</td>\n",
       "      <td>0.001400</td>\n",
       "      <td>0.01210</td>\n",
       "      <td>12.870</td>\n",
       "      <td>Blue</td>\n",
       "      <td>B</td>\n",
       "      <td>2</td>\n",
       "      <td>2</td>\n",
       "      <td>True</td>\n",
       "    </tr>\n",
       "    <tr>\n",
       "      <th>212</th>\n",
       "      <td>13089</td>\n",
       "      <td>788.000000</td>\n",
       "      <td>5.99200</td>\n",
       "      <td>-0.120</td>\n",
       "      <td>Blue-white</td>\n",
       "      <td>A</td>\n",
       "      <td>3</td>\n",
       "      <td>3</td>\n",
       "      <td>True</td>\n",
       "    </tr>\n",
       "    <tr>\n",
       "      <th>77</th>\n",
       "      <td>3342</td>\n",
       "      <td>0.001500</td>\n",
       "      <td>0.30700</td>\n",
       "      <td>11.870</td>\n",
       "      <td>Red</td>\n",
       "      <td>M</td>\n",
       "      <td>1</td>\n",
       "      <td>0</td>\n",
       "      <td>False</td>\n",
       "    </tr>\n",
       "    <tr>\n",
       "      <th>122</th>\n",
       "      <td>3218</td>\n",
       "      <td>0.000540</td>\n",
       "      <td>0.11000</td>\n",
       "      <td>20.020</td>\n",
       "      <td>Red</td>\n",
       "      <td>M</td>\n",
       "      <td>0</td>\n",
       "      <td>0</td>\n",
       "      <td>True</td>\n",
       "    </tr>\n",
       "    <tr>\n",
       "      <th>91</th>\n",
       "      <td>4526</td>\n",
       "      <td>0.153000</td>\n",
       "      <td>0.86500</td>\n",
       "      <td>6.506</td>\n",
       "      <td>yellowish</td>\n",
       "      <td>K</td>\n",
       "      <td>3</td>\n",
       "      <td>3</td>\n",
       "      <td>True</td>\n",
       "    </tr>\n",
       "    <tr>\n",
       "      <th>149</th>\n",
       "      <td>12984</td>\n",
       "      <td>0.000880</td>\n",
       "      <td>0.00996</td>\n",
       "      <td>11.230</td>\n",
       "      <td>Blue White</td>\n",
       "      <td>B</td>\n",
       "      <td>2</td>\n",
       "      <td>2</td>\n",
       "      <td>True</td>\n",
       "    </tr>\n",
       "    <tr>\n",
       "      <th>55</th>\n",
       "      <td>3450</td>\n",
       "      <td>263000.000000</td>\n",
       "      <td>1349.00000</td>\n",
       "      <td>-11.750</td>\n",
       "      <td>Red</td>\n",
       "      <td>M</td>\n",
       "      <td>5</td>\n",
       "      <td>5</td>\n",
       "      <td>True</td>\n",
       "    </tr>\n",
       "    <tr>\n",
       "      <th>129</th>\n",
       "      <td>2731</td>\n",
       "      <td>0.000437</td>\n",
       "      <td>0.08560</td>\n",
       "      <td>18.090</td>\n",
       "      <td>Red</td>\n",
       "      <td>M</td>\n",
       "      <td>0</td>\n",
       "      <td>0</td>\n",
       "      <td>True</td>\n",
       "    </tr>\n",
       "    <tr>\n",
       "      <th>35</th>\n",
       "      <td>8052</td>\n",
       "      <td>8.700000</td>\n",
       "      <td>1.80000</td>\n",
       "      <td>2.420</td>\n",
       "      <td>Whitish</td>\n",
       "      <td>A</td>\n",
       "      <td>3</td>\n",
       "      <td>2</td>\n",
       "      <td>False</td>\n",
       "    </tr>\n",
       "    <tr>\n",
       "      <th>72</th>\n",
       "      <td>3304</td>\n",
       "      <td>0.008500</td>\n",
       "      <td>0.18000</td>\n",
       "      <td>13.200</td>\n",
       "      <td>Red</td>\n",
       "      <td>M</td>\n",
       "      <td>1</td>\n",
       "      <td>0</td>\n",
       "      <td>False</td>\n",
       "    </tr>\n",
       "    <tr>\n",
       "      <th>221</th>\n",
       "      <td>12749</td>\n",
       "      <td>332520.000000</td>\n",
       "      <td>76.00000</td>\n",
       "      <td>-7.020</td>\n",
       "      <td>Blue</td>\n",
       "      <td>O</td>\n",
       "      <td>4</td>\n",
       "      <td>4</td>\n",
       "      <td>True</td>\n",
       "    </tr>\n",
       "    <tr>\n",
       "      <th>193</th>\n",
       "      <td>3212</td>\n",
       "      <td>0.001600</td>\n",
       "      <td>0.37800</td>\n",
       "      <td>12.854</td>\n",
       "      <td>Red</td>\n",
       "      <td>M</td>\n",
       "      <td>1</td>\n",
       "      <td>0</td>\n",
       "      <td>False</td>\n",
       "    </tr>\n",
       "    <tr>\n",
       "      <th>24</th>\n",
       "      <td>16500</td>\n",
       "      <td>0.013000</td>\n",
       "      <td>0.01400</td>\n",
       "      <td>11.890</td>\n",
       "      <td>Blue White</td>\n",
       "      <td>B</td>\n",
       "      <td>2</td>\n",
       "      <td>2</td>\n",
       "      <td>True</td>\n",
       "    </tr>\n",
       "    <tr>\n",
       "      <th>158</th>\n",
       "      <td>13023</td>\n",
       "      <td>998.000000</td>\n",
       "      <td>6.21000</td>\n",
       "      <td>-1.380</td>\n",
       "      <td>Blue-white</td>\n",
       "      <td>A</td>\n",
       "      <td>3</td>\n",
       "      <td>3</td>\n",
       "      <td>True</td>\n",
       "    </tr>\n",
       "  </tbody>\n",
       "</table>\n",
       "</div>"
      ],
      "text/plain": [
       "     Temperature_(K)  Luminosity(L/Lo)  Radius(R/Ro)  Absolute_magnitude(Mv)  \\\n",
       "216             9320         29.000000       1.91000                   1.236   \n",
       "98             12098        689.000000       7.01000                   0.020   \n",
       "194             3523          0.005400       0.31900                  12.430   \n",
       "227            10930     783930.000000      25.00000                  -6.224   \n",
       "107            12893     184000.000000      36.00000                  -6.340   \n",
       "10              3600          0.002900       0.51000                  10.690   \n",
       "66              2945          0.000320       0.09300                  18.340   \n",
       "130             3095          0.000190       0.49200                  10.870   \n",
       "124             3511          0.000640       0.10900                  17.120   \n",
       "103            17120     235000.000000      83.00000                  -6.890   \n",
       "200            16790          0.001400       0.01210                  12.870   \n",
       "212            13089        788.000000       5.99200                  -0.120   \n",
       "77              3342          0.001500       0.30700                  11.870   \n",
       "122             3218          0.000540       0.11000                  20.020   \n",
       "91              4526          0.153000       0.86500                   6.506   \n",
       "149            12984          0.000880       0.00996                  11.230   \n",
       "55              3450     263000.000000    1349.00000                 -11.750   \n",
       "129             2731          0.000437       0.08560                  18.090   \n",
       "35              8052          8.700000       1.80000                   2.420   \n",
       "72              3304          0.008500       0.18000                  13.200   \n",
       "221            12749     332520.000000      76.00000                  -7.020   \n",
       "193             3212          0.001600       0.37800                  12.854   \n",
       "24             16500          0.013000       0.01400                  11.890   \n",
       "158            13023        998.000000       6.21000                  -1.380   \n",
       "\n",
       "     Star_color Spectral_Class label  classification  classification_correct  \n",
       "216  Blue-white              A     3               3                    True  \n",
       "98   Blue-white              A     3               3                    True  \n",
       "194         Red              M     1               0                   False  \n",
       "227        Blue              O     4               4                    True  \n",
       "107        Blue              O     4               4                    True  \n",
       "10          Red              M     1               5                   False  \n",
       "66          Red              M     0               0                    True  \n",
       "130         Red              M     1               0                   False  \n",
       "124         Red              M     0               0                    True  \n",
       "103        Blue              O     4               4                    True  \n",
       "200        Blue              B     2               2                    True  \n",
       "212  Blue-white              A     3               3                    True  \n",
       "77          Red              M     1               0                   False  \n",
       "122         Red              M     0               0                    True  \n",
       "91    yellowish              K     3               3                    True  \n",
       "149  Blue White              B     2               2                    True  \n",
       "55          Red              M     5               5                    True  \n",
       "129         Red              M     0               0                    True  \n",
       "35      Whitish              A     3               2                   False  \n",
       "72          Red              M     1               0                   False  \n",
       "221        Blue              O     4               4                    True  \n",
       "193         Red              M     1               0                   False  \n",
       "24   Blue White              B     2               2                    True  \n",
       "158  Blue-white              A     3               3                    True  "
      ]
     },
     "execution_count": 65,
     "metadata": {},
     "output_type": "execute_result"
    }
   ],
   "source": [
    "teste"
   ]
  },
  {
   "cell_type": "code",
   "execution_count": 66,
   "metadata": {
    "ExecuteTime": {
     "end_time": "2021-06-21T23:18:01.635155Z",
     "start_time": "2021-06-21T23:18:01.620160Z"
    }
   },
   "outputs": [],
   "source": [
    "accuracy = calculate_accuracy(teste,tree)"
   ]
  },
  {
   "cell_type": "code",
   "execution_count": 67,
   "metadata": {
    "ExecuteTime": {
     "end_time": "2021-06-21T23:18:03.763299Z",
     "start_time": "2021-06-21T23:18:03.756284Z"
    }
   },
   "outputs": [
    {
     "name": "stdout",
     "output_type": "stream",
     "text": [
      "0.7083333333333334\n"
     ]
    }
   ],
   "source": [
    "pprint(accuracy)"
   ]
  }
 ],
 "metadata": {
  "kernelspec": {
   "display_name": "Python 3",
   "language": "python",
   "name": "python3"
  },
  "language_info": {
   "codemirror_mode": {
    "name": "ipython",
    "version": 3
   },
   "file_extension": ".py",
   "mimetype": "text/x-python",
   "name": "python",
   "nbconvert_exporter": "python",
   "pygments_lexer": "ipython3",
   "version": "3.7.6"
  }
 },
 "nbformat": 4,
 "nbformat_minor": 4
}
