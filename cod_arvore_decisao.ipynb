{
 "cells": [
  {
   "cell_type": "markdown",
   "metadata": {},
   "source": [
    "# Import de pacotes"
   ]
  },
  {
   "cell_type": "code",
   "execution_count": 2,
   "metadata": {
    "ExecuteTime": {
     "end_time": "2021-06-20T00:02:28.080126Z",
     "start_time": "2021-06-20T00:02:07.536105Z"
    }
   },
   "outputs": [],
   "source": [
    "import pandas as pd\n",
    "import numpy as np\n",
    "\n",
    "import matplotlib.pyplot as plt\n",
    "import seaborn as sns\n",
    "%matplotlib inline\n",
    "\n",
    "import random\n",
    "from pprint import pprint\n"
   ]
  },
  {
   "cell_type": "markdown",
   "metadata": {
    "heading_collapsed": true
   },
   "source": [
    "# Funções para treinar uma árvore de decisão"
   ]
  },
  {
   "cell_type": "markdown",
   "metadata": {
    "hidden": true
   },
   "source": [
    "Importante! A variável resposta deve ser a última coluna do data frame."
   ]
  },
  {
   "cell_type": "markdown",
   "metadata": {
    "heading_collapsed": true,
    "hidden": true
   },
   "source": [
    "## Funções auxiliares"
   ]
  },
  {
   "cell_type": "markdown",
   "metadata": {
    "heading_collapsed": true,
    "hidden": true
   },
   "source": [
    "### Função para separar dados em treino e teste"
   ]
  },
  {
   "cell_type": "code",
   "execution_count": null,
   "metadata": {
    "hidden": true
   },
   "outputs": [],
   "source": [
    "def train_test_split(df, test_size):\n",
    "    \n",
    "    if isinstance(test_size, float):\n",
    "        test_size = round(test_size * len(df))\n",
    "    \n",
    "    indices = df.index.tolist()\n",
    "    test_indices = random.sample(population = indices, k = test_size)\n",
    "    test_df = df.loc[test_indices]\n",
    "    train_df = df.drop(test_indices)\n",
    "    \n",
    "    return train_df, test_df"
   ]
  },
  {
   "cell_type": "markdown",
   "metadata": {
    "heading_collapsed": true,
    "hidden": true
   },
   "source": [
    "### Dados com só uma resposta?"
   ]
  },
  {
   "cell_type": "code",
   "execution_count": 10,
   "metadata": {
    "ExecuteTime": {
     "end_time": "2021-06-07T22:00:24.967366Z",
     "start_time": "2021-06-07T22:00:24.944349Z"
    },
    "hidden": true
   },
   "outputs": [],
   "source": [
    "def check_purity(data):\n",
    "    label_column = data[:,-1]\n",
    "    unique_classes = np.unique(label_column)\n",
    "\n",
    "    if len(unique_classes) == 1:\n",
    "        return True\n",
    "    else: \n",
    "        return False"
   ]
  },
  {
   "cell_type": "markdown",
   "metadata": {
    "heading_collapsed": true,
    "hidden": true
   },
   "source": [
    "### Classificador"
   ]
  },
  {
   "cell_type": "code",
   "execution_count": 11,
   "metadata": {
    "ExecuteTime": {
     "end_time": "2021-06-07T22:00:24.983355Z",
     "start_time": "2021-06-07T22:00:24.970361Z"
    },
    "hidden": true
   },
   "outputs": [],
   "source": [
    "def classify_data(data):\n",
    "    \n",
    "    label_column = data[:,-1]\n",
    "    unique_classes, counts_unique_classes = np.unique(label_column, return_counts = True)\n",
    "    \n",
    "    index = counts_unique_classes.argmax()\n",
    "    \n",
    "    classification = unique_classes[index]\n",
    "    \n",
    "    return classification"
   ]
  },
  {
   "cell_type": "markdown",
   "metadata": {
    "heading_collapsed": true,
    "hidden": true
   },
   "source": [
    "### Potencial split"
   ]
  },
  {
   "cell_type": "code",
   "execution_count": 12,
   "metadata": {
    "ExecuteTime": {
     "end_time": "2021-06-07T22:00:25.015250Z",
     "start_time": "2021-06-07T22:00:24.988353Z"
    },
    "hidden": true
   },
   "outputs": [],
   "source": [
    "def get_potential_splits(data):\n",
    "    \n",
    "    potential_splits = {}\n",
    "    _, n_columns = data.shape\n",
    "    for column_index in range(n_columns - 1):\n",
    "        potential_splits[column_index] = []\n",
    "        values = data[:, column_index]\n",
    "        unique_values = np.unique(values)\n",
    "        \n",
    "        for index in range(len(unique_values)):\n",
    "            if index != 0:\n",
    "                current_value = unique_values[index]\n",
    "                previous_value = unique_values[index - 1]\n",
    "                potential_split = (current_value + previous_value) / 2\n",
    "                \n",
    "                potential_splits[column_index].append(potential_split)\n",
    "                \n",
    "    return potential_splits"
   ]
  },
  {
   "cell_type": "markdown",
   "metadata": {
    "heading_collapsed": true,
    "hidden": true
   },
   "source": [
    "### Split dos dados"
   ]
  },
  {
   "cell_type": "code",
   "execution_count": 13,
   "metadata": {
    "ExecuteTime": {
     "end_time": "2021-06-07T22:00:25.031245Z",
     "start_time": "2021-06-07T22:00:25.018252Z"
    },
    "hidden": true
   },
   "outputs": [],
   "source": [
    "def split_data(data, split_column, split_value):\n",
    "    \n",
    "    split_column_values = data[:, split_column]\n",
    "    \n",
    "    data_below = data[split_column_values <= split_value]\n",
    "    data_above = data[split_column_values > split_value]\n",
    "    \n",
    "    return data_below, data_above"
   ]
  },
  {
   "cell_type": "markdown",
   "metadata": {
    "heading_collapsed": true,
    "hidden": true
   },
   "source": [
    "### Menor impureza. \n",
    "\n",
    "Foram criadas as funções podendo ser usadas as medidas de impureza Gini ou entropia."
   ]
  },
  {
   "cell_type": "code",
   "execution_count": 14,
   "metadata": {
    "ExecuteTime": {
     "end_time": "2021-06-07T22:00:25.047237Z",
     "start_time": "2021-06-07T22:00:25.036241Z"
    },
    "hidden": true
   },
   "outputs": [],
   "source": [
    "def calculate_entropy(data):\n",
    "    \n",
    "    label_column = data[:, -1]\n",
    "    _, counts = np.unique(label_column, return_counts = True)\n",
    "\n",
    "    probabilities = counts / counts.sum()\n",
    "    entropy = sum(probabilities * -np.log2(probabilities))\n",
    "    return entropy"
   ]
  },
  {
   "cell_type": "code",
   "execution_count": 15,
   "metadata": {
    "ExecuteTime": {
     "end_time": "2021-06-07T22:00:25.079217Z",
     "start_time": "2021-06-07T22:00:25.054232Z"
    },
    "hidden": true
   },
   "outputs": [],
   "source": [
    "def calculate_gini(data):\n",
    "    label_column = data[:, -1]\n",
    "    _, counts = np.unique(label_column, return_counts = True)\n",
    "    \n",
    "    probabilities = (counts / counts.sum())**2\n",
    "    \n",
    "    gini = 1 - sum(probabilities)\n",
    "    \n",
    "    return gini"
   ]
  },
  {
   "cell_type": "code",
   "execution_count": 16,
   "metadata": {
    "ExecuteTime": {
     "end_time": "2021-06-07T22:00:25.111212Z",
     "start_time": "2021-06-07T22:00:25.083216Z"
    },
    "hidden": true
   },
   "outputs": [],
   "source": [
    "def calculate_overall_entropy(data_below, data_above):\n",
    "    n_data_points = len(data_below) + len(data_above)\n",
    "    \n",
    "    p_data_below = len(data_below) / n_data_points\n",
    "    p_data_above = len(data_above) / n_data_points\n",
    "    \n",
    "    overall_entropy = (p_data_below * calculate_entropy(data_below)) + (p_data_above * calculate_entropy(data_above))\n",
    "    \n",
    "    return overall_entropy"
   ]
  },
  {
   "cell_type": "code",
   "execution_count": 17,
   "metadata": {
    "ExecuteTime": {
     "end_time": "2021-06-07T22:00:25.127203Z",
     "start_time": "2021-06-07T22:00:25.114209Z"
    },
    "hidden": true
   },
   "outputs": [],
   "source": [
    "def calculate_overall_gini(data_below, data_above):\n",
    "    n_data_points = len(data_below) + len(data_above)\n",
    "    \n",
    "    p_data_below = len(data_below) / n_data_points\n",
    "    p_data_above = len(data_above) / n_data_points\n",
    "    \n",
    "    overall_gini = (p_data_below * calculate_gini(data_below)) + (p_data_above * calculate_gini(data_above))\n",
    "    \n",
    "    return overall_gini"
   ]
  },
  {
   "cell_type": "markdown",
   "metadata": {
    "heading_collapsed": true,
    "hidden": true
   },
   "source": [
    "### Melhor split"
   ]
  },
  {
   "cell_type": "code",
   "execution_count": 18,
   "metadata": {
    "ExecuteTime": {
     "end_time": "2021-06-07T22:00:25.191248Z",
     "start_time": "2021-06-07T22:00:25.133201Z"
    },
    "hidden": true
   },
   "outputs": [],
   "source": [
    "def determine_best_split(data, potential_splits, impurity = 'gini'):\n",
    "    \n",
    "    overall_impurity = 999\n",
    "    for column_index in potential_splits:\n",
    "        for value in potential_splits[column_index]:\n",
    "            data_below, data_above = split_data(data, split_column = column_index, split_value = value)\n",
    "            if impurity == 'entropy':\n",
    "                current_overall_impurity = calculate_overall_entropy(data_below, data_above)\n",
    "            else: # impurity == 'gini'\n",
    "                current_overall_impurity = calculate_overall_gini(data_below, data_above)\n",
    "            \n",
    "            if current_overall_impurity < overall_impurity:\n",
    "                overall_impurity = current_overall_impurity\n",
    "                best_split_column = column_index\n",
    "                best_split_value = value\n",
    "    \n",
    "    return best_split_column, best_split_value"
   ]
  },
  {
   "cell_type": "markdown",
   "metadata": {
    "heading_collapsed": true,
    "hidden": true
   },
   "source": [
    "## Função principal "
   ]
  },
  {
   "cell_type": "markdown",
   "metadata": {
    "hidden": true
   },
   "source": [
    "Parâmetros da função:\n",
    " - df: conjunto de dados\n",
    " - min_samples: quantidade máxima de observações nas folhas (finais)\n",
    " - max_depth: quantidade máxima de ramificações (splits)\n",
    " - impurity: qual a medida de impureza usada"
   ]
  },
  {
   "cell_type": "code",
   "execution_count": 21,
   "metadata": {
    "ExecuteTime": {
     "end_time": "2021-06-07T22:01:16.025589Z",
     "start_time": "2021-06-07T22:01:16.003578Z"
    },
    "hidden": true
   },
   "outputs": [],
   "source": [
    "def decision_tree_algorithm(df, counter = 0, min_samples = 2,max_depth = 5, impurity = 'gini'):\n",
    "    \n",
    "    # \n",
    "    if counter == 0:\n",
    "        global column_headers\n",
    "        column_headers = df.columns\n",
    "        data = df.values\n",
    "    else:\n",
    "        data = df\n",
    "        \n",
    "    #base case\n",
    "    if (check_purity(data)) or (len(data) < min_samples) or (counter == max_depth):\n",
    "        classification = classify_data(data)\n",
    "        return classification\n",
    "    \n",
    "    #recursive part\n",
    "    else:\n",
    "        counter += 1\n",
    "        \n",
    "        potential_splits = get_potential_splits(data)\n",
    "        split_column, split_value = determine_best_split(data, potential_splits, impurity = 'gini')\n",
    "        data_below, data_above = split_data(data,split_column, split_value)\n",
    "        \n",
    "        # instantiate sub-tree\n",
    "        feature_name = column_headers[split_column]\n",
    "        question = \"{} <= {:.6f}\".format(feature_name, split_value)\n",
    "        sub_tree = {question: []}\n",
    "    \n",
    "        #find answers (recursion)\n",
    "        yes_answer = decision_tree_algorithm(data_below, counter, min_samples, impurity, max_depth)\n",
    "        no_answer = decision_tree_algorithm(data_above, counter, min_samples, impurity, max_depth)\n",
    "        \n",
    "        if yes_answer == no_answer:\n",
    "            sub_tree = yes_answer\n",
    "        else:\n",
    "            sub_tree[question].append(yes_answer)\n",
    "            sub_tree[question].append(no_answer)\n",
    "        \n",
    "    return sub_tree"
   ]
  },
  {
   "cell_type": "markdown",
   "metadata": {
    "ExecuteTime": {
     "end_time": "2021-06-07T22:01:40.139738Z",
     "start_time": "2021-06-07T22:01:40.121749Z"
    },
    "heading_collapsed": true
   },
   "source": [
    "# Funções para classificação de novos dados"
   ]
  },
  {
   "cell_type": "markdown",
   "metadata": {
    "heading_collapsed": true,
    "hidden": true
   },
   "source": [
    "## Classificação"
   ]
  },
  {
   "cell_type": "code",
   "execution_count": 25,
   "metadata": {
    "ExecuteTime": {
     "end_time": "2021-06-07T22:01:43.076251Z",
     "start_time": "2021-06-07T22:01:42.834237Z"
    },
    "hidden": true
   },
   "outputs": [
    {
     "data": {
      "text/plain": [
       "array(['M'], dtype=object)"
      ]
     },
     "execution_count": 25,
     "metadata": {},
     "output_type": "execute_result"
    }
   ],
   "source": [
    "sub_tree = {question: [yes_answer, no_answer]}"
   ]
  },
  {
   "cell_type": "code",
   "execution_count": null,
   "metadata": {
    "hidden": true
   },
   "outputs": [],
   "source": [
    "def classify_example(example, tree):\n",
    "    \n",
    "    question = list(tree.keys())[0]\n",
    "    feature_name, comparitson_operator,value = question.split()\n",
    "    \n",
    "    if example[feature_name] <= float(value):\n",
    "        answer = tree[question][0]\n",
    "    else: \n",
    "        answer = tree[question][1]\n",
    "        \n",
    "    if not isinstance(answer, dict):\n",
    "        return answer\n",
    "    else:\n",
    "        residual_tree = answer\n",
    "        return classify_example(example, answer)"
   ]
  },
  {
   "cell_type": "markdown",
   "metadata": {
    "heading_collapsed": true,
    "hidden": true
   },
   "source": [
    "## Acurácia"
   ]
  },
  {
   "cell_type": "code",
   "execution_count": null,
   "metadata": {
    "hidden": true
   },
   "outputs": [],
   "source": [
    "def calculate_accuracy(df, tree):\n",
    "    \n",
    "    df['classification'] = df.apply(classify_example, axis=1, args = (tree,))\n",
    "    df['classification_correct'] = df.classification == df.label\n",
    "    \n",
    "    accuracy = df.classification_correct.mean()\n",
    "    \n",
    "    return accuracy"
   ]
  },
  {
   "cell_type": "markdown",
   "metadata": {},
   "source": [
    "# Conjunto de dados"
   ]
  },
  {
   "cell_type": "markdown",
   "metadata": {
    "heading_collapsed": true
   },
   "source": [
    "## Dicionário das variáveis:"
   ]
  },
  {
   "cell_type": "markdown",
   "metadata": {
    "hidden": true
   },
   "source": [
    " **Temperature (K)}**:\n",
    "\n",
    "**Luminosity(L/Lo)**:\n",
    "\n",
    "**Radius(R/Ro)**:\n",
    "\n",
    "**Absolute magnitude(Mv)**:\n",
    "\n",
    "**Star Type**: Brown Dwarf = 0, Red Dwarf = 1, White Dwarf = 2, Main Sequence = 3, Supergiant = 4, Hypergiant = 5\n",
    "\n",
    "**Star color**:\n",
    "\n",
    "**Spectral Class**:\n",
    "\n",
    "The Luminosity and radius of each star is calculated w.r.t. that of the values of Sun.\n",
    "\n",
    "Lo = 3.828 x 10^26 Watts\n",
    "\n",
    "Ro = 6.9551 x 10^8 m"
   ]
  },
  {
   "cell_type": "markdown",
   "metadata": {},
   "source": [
    "## Carregamento dos dados"
   ]
  },
  {
   "cell_type": "code",
   "execution_count": 3,
   "metadata": {
    "ExecuteTime": {
     "end_time": "2021-06-20T00:07:07.371768Z",
     "start_time": "2021-06-20T00:07:07.291050Z"
    }
   },
   "outputs": [],
   "source": [
    "dados = pd.read_csv('stars.csv')"
   ]
  },
  {
   "cell_type": "code",
   "execution_count": 4,
   "metadata": {
    "ExecuteTime": {
     "end_time": "2021-06-20T00:07:09.688883Z",
     "start_time": "2021-06-20T00:07:09.621321Z"
    }
   },
   "outputs": [
    {
     "data": {
      "text/html": [
       "<div>\n",
       "<style scoped>\n",
       "    .dataframe tbody tr th:only-of-type {\n",
       "        vertical-align: middle;\n",
       "    }\n",
       "\n",
       "    .dataframe tbody tr th {\n",
       "        vertical-align: top;\n",
       "    }\n",
       "\n",
       "    .dataframe thead th {\n",
       "        text-align: right;\n",
       "    }\n",
       "</style>\n",
       "<table border=\"1\" class=\"dataframe\">\n",
       "  <thead>\n",
       "    <tr style=\"text-align: right;\">\n",
       "      <th></th>\n",
       "      <th>Temperature (K)</th>\n",
       "      <th>Luminosity(L/Lo)</th>\n",
       "      <th>Radius(R/Ro)</th>\n",
       "      <th>Absolute magnitude(Mv)</th>\n",
       "      <th>Star type</th>\n",
       "      <th>Star color</th>\n",
       "      <th>Spectral Class</th>\n",
       "    </tr>\n",
       "  </thead>\n",
       "  <tbody>\n",
       "    <tr>\n",
       "      <th>0</th>\n",
       "      <td>3068</td>\n",
       "      <td>0.002400</td>\n",
       "      <td>0.1700</td>\n",
       "      <td>16.12</td>\n",
       "      <td>0</td>\n",
       "      <td>Red</td>\n",
       "      <td>M</td>\n",
       "    </tr>\n",
       "    <tr>\n",
       "      <th>1</th>\n",
       "      <td>3042</td>\n",
       "      <td>0.000500</td>\n",
       "      <td>0.1542</td>\n",
       "      <td>16.60</td>\n",
       "      <td>0</td>\n",
       "      <td>Red</td>\n",
       "      <td>M</td>\n",
       "    </tr>\n",
       "    <tr>\n",
       "      <th>2</th>\n",
       "      <td>2600</td>\n",
       "      <td>0.000300</td>\n",
       "      <td>0.1020</td>\n",
       "      <td>18.70</td>\n",
       "      <td>0</td>\n",
       "      <td>Red</td>\n",
       "      <td>M</td>\n",
       "    </tr>\n",
       "    <tr>\n",
       "      <th>3</th>\n",
       "      <td>2800</td>\n",
       "      <td>0.000200</td>\n",
       "      <td>0.1600</td>\n",
       "      <td>16.65</td>\n",
       "      <td>0</td>\n",
       "      <td>Red</td>\n",
       "      <td>M</td>\n",
       "    </tr>\n",
       "    <tr>\n",
       "      <th>4</th>\n",
       "      <td>1939</td>\n",
       "      <td>0.000138</td>\n",
       "      <td>0.1030</td>\n",
       "      <td>20.06</td>\n",
       "      <td>0</td>\n",
       "      <td>Red</td>\n",
       "      <td>M</td>\n",
       "    </tr>\n",
       "  </tbody>\n",
       "</table>\n",
       "</div>"
      ],
      "text/plain": [
       "   Temperature (K)  Luminosity(L/Lo)  Radius(R/Ro)  Absolute magnitude(Mv)  \\\n",
       "0             3068          0.002400        0.1700                   16.12   \n",
       "1             3042          0.000500        0.1542                   16.60   \n",
       "2             2600          0.000300        0.1020                   18.70   \n",
       "3             2800          0.000200        0.1600                   16.65   \n",
       "4             1939          0.000138        0.1030                   20.06   \n",
       "\n",
       "   Star type Star color Spectral Class  \n",
       "0          0        Red              M  \n",
       "1          0        Red              M  \n",
       "2          0        Red              M  \n",
       "3          0        Red              M  \n",
       "4          0        Red              M  "
      ]
     },
     "execution_count": 4,
     "metadata": {},
     "output_type": "execute_result"
    }
   ],
   "source": [
    "dados.head()"
   ]
  },
  {
   "cell_type": "code",
   "execution_count": 5,
   "metadata": {
    "ExecuteTime": {
     "end_time": "2021-06-20T00:07:11.723341Z",
     "start_time": "2021-06-20T00:07:11.707340Z"
    }
   },
   "outputs": [
    {
     "data": {
      "text/plain": [
       "(240, 7)"
      ]
     },
     "execution_count": 5,
     "metadata": {},
     "output_type": "execute_result"
    }
   ],
   "source": [
    "dados.shape"
   ]
  },
  {
   "cell_type": "code",
   "execution_count": 6,
   "metadata": {
    "ExecuteTime": {
     "end_time": "2021-06-20T00:07:13.956298Z",
     "start_time": "2021-06-20T00:07:13.916304Z"
    }
   },
   "outputs": [
    {
     "name": "stdout",
     "output_type": "stream",
     "text": [
      "<class 'pandas.core.frame.DataFrame'>\n",
      "RangeIndex: 240 entries, 0 to 239\n",
      "Data columns (total 7 columns):\n",
      " #   Column                  Non-Null Count  Dtype  \n",
      "---  ------                  --------------  -----  \n",
      " 0   Temperature (K)         240 non-null    int64  \n",
      " 1   Luminosity(L/Lo)        240 non-null    float64\n",
      " 2   Radius(R/Ro)            240 non-null    float64\n",
      " 3   Absolute magnitude(Mv)  240 non-null    float64\n",
      " 4   Star type               240 non-null    int64  \n",
      " 5   Star color              240 non-null    object \n",
      " 6   Spectral Class          240 non-null    object \n",
      "dtypes: float64(3), int64(2), object(2)\n",
      "memory usage: 13.2+ KB\n"
     ]
    }
   ],
   "source": [
    "dados.info()"
   ]
  },
  {
   "cell_type": "markdown",
   "metadata": {},
   "source": [
    "## Preparando os dados"
   ]
  },
  {
   "cell_type": "markdown",
   "metadata": {},
   "source": [
    "### Variável resposta (alvo)"
   ]
  },
  {
   "cell_type": "code",
   "execution_count": null,
   "metadata": {},
   "outputs": [],
   "source": [
    "dados['Star type'].unique()"
   ]
  },
  {
   "cell_type": "code",
   "execution_count": null,
   "metadata": {},
   "outputs": [],
   "source": [
    "dados['label'] = dados['Star type']\n",
    "dados = dados.drop(['Star type'], axis = 1)"
   ]
  },
  {
   "cell_type": "code",
   "execution_count": null,
   "metadata": {},
   "outputs": [],
   "source": [
    "dados.info()"
   ]
  },
  {
   "cell_type": "markdown",
   "metadata": {
    "ExecuteTime": {
     "end_time": "2021-06-19T23:42:30.712600Z",
     "start_time": "2021-06-19T23:42:30.304671Z"
    }
   },
   "source": [
    "### Separando os dados entre teste e treino"
   ]
  },
  {
   "cell_type": "code",
   "execution_count": null,
   "metadata": {},
   "outputs": [],
   "source": [
    "random.seed(0)\n",
    "treino, teste = train_test_split(dados,0.1)"
   ]
  },
  {
   "cell_type": "code",
   "execution_count": null,
   "metadata": {},
   "outputs": [],
   "source": [
    "treino.shape, teste.shape"
   ]
  },
  {
   "cell_type": "markdown",
   "metadata": {},
   "source": [
    "# Treinando uma árvore de decisão"
   ]
  },
  {
   "cell_type": "code",
   "execution_count": 22,
   "metadata": {
    "ExecuteTime": {
     "end_time": "2021-06-07T22:01:22.750267Z",
     "start_time": "2021-06-07T22:01:22.162567Z"
    }
   },
   "outputs": [],
   "source": [
    "tree = decision_tree_algorithm(dados.drop('Star color', axis = 1))"
   ]
  },
  {
   "cell_type": "code",
   "execution_count": 23,
   "metadata": {
    "ExecuteTime": {
     "end_time": "2021-06-07T22:01:25.078819Z",
     "start_time": "2021-06-07T22:01:25.057830Z"
    }
   },
   "outputs": [
    {
     "name": "stdout",
     "output_type": "stream",
     "text": [
      "{'Temperature (K) <= 3924.500000': ['M',\n",
      "                                    {'Absolute magnitude(Mv) <= -4.280000': [{'Radius(R/Ro) <= 403.450000': [{'Temperature (K) <= 32880.000000': ['O',\n",
      "                                                                                                                                                  {'Temperature (K) <= 33970.000000': [{'Luminosity(L/Lo) <= 296000.000000': ['B',\n",
      "                                                                                                                                                                                                                              'O']},\n",
      "                                                                                                                                                                                       'O']}]},\n",
      "                                                                                                             {'Temperature (K) <= 29289.000000': [{'Temperature (K) <= 10117.500000': [{'Temperature (K) <= 5568.500000': ['K',\n",
      "                                                                                                                                                                                                                           {'Temperature (K) <= 7839.500000': ['G',\n",
      "                                                                                                                                                                                                                                                               'A']}]},\n",
      "                                                                                                                                                                                       {'Radius(R/Ro) <= 1087.500000': [{'Temperature (K) <= 15050.000000': ['B',\n",
      "                                                                                                                                                                                                                                                             'O']},\n",
      "                                                                                                                                                                                                                        'B']}]},\n",
      "                                                                                                                                                  'O']}]},\n",
      "                                                                             {'Temperature (K) <= 14080.000000': [{'Temperature (K) <= 7721.500000': [{'Temperature (K) <= 5206.000000': ['K',\n",
      "                                                                                                                                                                                          'F']},\n",
      "                                                                                                                                                      {'Temperature (K) <= 9687.500000': [{'Absolute magnitude(Mv) <= -0.430000': ['F',\n",
      "                                                                                                                                                                                                                                   'A']},\n",
      "                                                                                                                                                                                          {'Luminosity(L/Lo) <= 313.000000': [{'Luminosity(L/Lo) <= 0.000385': ['F',\n",
      "                                                                                                                                                                                                                                                                'B']},\n",
      "                                                                                                                                                                                                                              'A']}]}]},\n",
      "                                                                                                                  {'Luminosity(L/Lo) <= 0.000390': ['F',\n",
      "                                                                                                                                                    'B']}]}]}]}\n"
     ]
    }
   ],
   "source": [
    "pprint(tree)"
   ]
  }
 ],
 "metadata": {
  "kernelspec": {
   "display_name": "Python 3",
   "language": "python",
   "name": "python3"
  },
  "language_info": {
   "codemirror_mode": {
    "name": "ipython",
    "version": 3
   },
   "file_extension": ".py",
   "mimetype": "text/x-python",
   "name": "python",
   "nbconvert_exporter": "python",
   "pygments_lexer": "ipython3",
   "version": "3.7.6"
  }
 },
 "nbformat": 4,
 "nbformat_minor": 4
}
